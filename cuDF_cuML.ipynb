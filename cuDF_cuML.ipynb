{
  "nbformat": 4,
  "nbformat_minor": 0,
  "metadata": {
    "colab": {
      "provenance": [],
      "gpuType": "T4"
    },
    "kernelspec": {
      "name": "python3",
      "display_name": "Python 3"
    },
    "language_info": {
      "name": "python"
    },
    "accelerator": "GPU"
  },
  "cells": [
    {
      "cell_type": "markdown",
      "source": [
        "# **Introduction to cuML and cuDF**\n",
        "cuML and cuDF are part of RAPIDS, a suite of GPU-accelerated libraries designed to speed up data science workflows using NVIDIA GPUs.\n",
        "\n",
        "## **cuDF (GPU DataFrames)**\n",
        "\n",
        "cuDF is a GPU-accelerated equivalent of pandas for DataFrames.\n",
        "It enables fast data manipulation by leveraging CUDA and NVIDIA GPUs.\n",
        "The syntax is similar to pandas, making it easy to adopt.\n",
        "\n",
        "## **cuML (GPU Machine Learning)**\n",
        "\n",
        "cuML provides GPU-accelerated implementations of machine learning algorithms.\n",
        "It supports Logistic Regression, Random Forests, KMeans, PCA, and more.<br>\n",
        "The API is designed to be similar to Scikit-learn for a smooth transition.\n"
      ],
      "metadata": {
        "id": "k481ZCZlIMcK"
      }
    },
    {
      "cell_type": "markdown",
      "source": [
        "# **Comparing MNIST Classification: CPU vs GPU (cuDF & cuML)**\n",
        "\n"
      ],
      "metadata": {
        "id": "iJgXvCA6GTDa"
      }
    },
    {
      "cell_type": "markdown",
      "source": [
        "**Install and Import Dependencies**"
      ],
      "metadata": {
        "id": "mQrYAK3-GYXl"
      }
    },
    {
      "cell_type": "code",
      "execution_count": null,
      "metadata": {
        "colab": {
          "base_uri": "https://localhost:8080/"
        },
        "id": "HJnZQ23VFapY",
        "outputId": "89dbee47-4aa7-4efa-9f16-a0628357b259"
      },
      "outputs": [
        {
          "output_type": "stream",
          "name": "stdout",
          "text": [
            "Cloning into 'rapidsai-csp-utils'...\n",
            "remote: Enumerating objects: 586, done.\u001b[K\n",
            "remote: Counting objects: 100% (152/152), done.\u001b[K\n",
            "remote: Compressing objects: 100% (70/70), done.\u001b[K\n",
            "remote: Total 586 (delta 122), reused 82 (delta 82), pack-reused 434 (from 3)\u001b[K\n",
            "Receiving objects: 100% (586/586), 191.99 KiB | 1.03 MiB/s, done.\n",
            "Resolving deltas: 100% (296/296), done.\n",
            "bash: rapidsai-csp-utils/colab/install_rapids.sh: No such file or directory\n"
          ]
        }
      ],
      "source": [
        "!git clone https://github.com/rapidsai/rapidsai-csp-utils.git\n",
        "!bash rapidsai-csp-utils/colab/install_rapids.sh stable\n",
        "import os\n",
        "os.environ[\"PATH\"] += \":/usr/local/cuda/bin\"\n"
      ]
    },
    {
      "cell_type": "code",
      "source": [
        "import cuml\n",
        "import cudf\n",
        "print(\"cuML & cuDF installed successfully\")\n"
      ],
      "metadata": {
        "colab": {
          "base_uri": "https://localhost:8080/"
        },
        "id": "BqsJSe5CFeKu",
        "outputId": "11f21978-287d-493e-c633-9269c7f2a5c7"
      },
      "execution_count": null,
      "outputs": [
        {
          "output_type": "stream",
          "name": "stdout",
          "text": [
            "cuML & cuDF installed successfully\n"
          ]
        }
      ]
    },
    {
      "cell_type": "markdown",
      "source": [
        "**Load the MNIST Dataset**"
      ],
      "metadata": {
        "id": "jF8u7S7CGexI"
      }
    },
    {
      "cell_type": "code",
      "source": [
        "import numpy as np\n",
        "from sklearn.datasets import fetch_openml\n",
        "from sklearn.model_selection import train_test_split\n",
        "from sklearn.preprocessing import StandardScaler\n",
        "\n",
        "# Charger MNIST\n",
        "mnist = fetch_openml(\"mnist_784\", version=1, as_frame=False)\n",
        "X, y = mnist.data, mnist.target.astype(int)\n",
        "\n",
        "# Normalisation et séparation des données\n",
        "scaler = StandardScaler()\n",
        "X = scaler.fit_transform(X)\n",
        "X_train, X_test, y_train, y_test = train_test_split(X, y, test_size=0.2, random_state=42)\n",
        "\n"
      ],
      "metadata": {
        "id": "cwxPz45FFoh1"
      },
      "execution_count": null,
      "outputs": []
    },
    {
      "cell_type": "markdown",
      "source": [
        "**Convert Data to cuDF Format for GPU Processing**"
      ],
      "metadata": {
        "id": "-hZRkGW-Gi7p"
      }
    },
    {
      "cell_type": "code",
      "source": [
        "import cudf\n",
        "\n",
        "X_train_cudf = cudf.DataFrame(X_train)\n",
        "X_test_cudf = cudf.DataFrame(X_test)\n",
        "y_train_cudf = cudf.Series(y_train)\n",
        "y_test_cudf = cudf.Series(y_test)\n",
        "\n",
        "print(\"Data loaded and preprocessed\")"
      ],
      "metadata": {
        "colab": {
          "base_uri": "https://localhost:8080/"
        },
        "id": "Be6RQC66Gwm2",
        "outputId": "f95d7dda-24ed-46ce-9b25-31bb44037fc9"
      },
      "execution_count": null,
      "outputs": [
        {
          "output_type": "stream",
          "name": "stdout",
          "text": [
            "Data loaded and preprocessed\n"
          ]
        }
      ]
    },
    {
      "cell_type": "markdown",
      "source": [
        "**Train on CPU (Scikit-learn)**"
      ],
      "metadata": {
        "id": "jzGv004OHBR4"
      }
    },
    {
      "cell_type": "code",
      "source": [
        "import time\n",
        "from sklearn.ensemble import RandomForestClassifier\n",
        "from sklearn.metrics import accuracy_score\n",
        "\n",
        "# Modèle CPU\n",
        "rf_cpu = RandomForestClassifier(n_estimators=100, max_depth=10, n_jobs=-1)\n",
        "\n",
        "# Entraînement\n",
        "start_cpu = time.time()\n",
        "rf_cpu.fit(X_train, y_train)\n",
        "end_cpu = time.time()\n",
        "\n",
        "# Prédiction et évaluation\n",
        "y_pred_cpu = rf_cpu.predict(X_test)\n",
        "acc_cpu = accuracy_score(y_test, y_pred_cpu)\n",
        "\n",
        "print(f\"Accuracy (Scikit-learn CPU): {acc_cpu:.4f}\")\n",
        "print(f\"Temps d'entraînement (CPU): {end_cpu - start_cpu:.2f} sec\")\n"
      ],
      "metadata": {
        "colab": {
          "base_uri": "https://localhost:8080/"
        },
        "id": "SrKcRvTCFyZb",
        "outputId": "e67ac865-13fd-4380-9933-4e3c8273b028"
      },
      "execution_count": null,
      "outputs": [
        {
          "output_type": "stream",
          "name": "stdout",
          "text": [
            "Accuracy (Scikit-learn CPU): 0.9459\n",
            "Temps d'entraînement (CPU): 20.23 sec\n"
          ]
        }
      ]
    },
    {
      "cell_type": "markdown",
      "source": [
        "**Train on GPU (cuML + cuDF)**"
      ],
      "metadata": {
        "id": "EmbsDJcZGnhZ"
      }
    },
    {
      "cell_type": "code",
      "source": [
        "from cuml.ensemble import RandomForestClassifier\n",
        "\n",
        "# Modèle GPU\n",
        "rf_gpu = RandomForestClassifier(n_estimators=100, max_depth=10, n_bins=8)\n",
        "\n",
        "# Entraînement\n",
        "start_gpu = time.time()\n",
        "rf_gpu.fit(X_train_cudf, y_train_cudf)\n",
        "end_gpu = time.time()\n",
        "\n",
        "# Prédiction et évaluation\n",
        "y_pred_gpu = rf_gpu.predict(X_test_cudf)\n",
        "acc_gpu = accuracy_score(y_test_cudf.to_pandas(), y_pred_gpu.to_pandas())\n",
        "\n",
        "print(f\"Accuracy (cuML GPU): {acc_gpu:.4f}\")\n",
        "print(f\"Temps d'entraînement (GPU): {end_gpu - start_gpu:.2f} sec\")\n"
      ],
      "metadata": {
        "colab": {
          "base_uri": "https://localhost:8080/"
        },
        "id": "I6fZ3H9cF23_",
        "outputId": "b9980a75-18a5-4356-b8a7-2f2470e0b1ae"
      },
      "execution_count": null,
      "outputs": [
        {
          "output_type": "stream",
          "name": "stdout",
          "text": [
            "Accuracy (cuML GPU): 0.9447\n",
            "Temps d'entraînement (GPU): 4.58 sec\n"
          ]
        }
      ]
    },
    {
      "cell_type": "markdown",
      "source": [
        "**Compare CPU vs GPU Performance**"
      ],
      "metadata": {
        "id": "vUn9nkRLHHDb"
      }
    },
    {
      "cell_type": "code",
      "source": [
        "import pandas as pd\n",
        "\n",
        "results = pd.DataFrame({\n",
        "    \"Méthode\": [\"Scikit-learn (CPU)\", \"cuML (GPU)\"],\n",
        "    \"Accuracy\": [acc_cpu, acc_gpu],\n",
        "    \"Temps d'entraînement (sec)\": [end_cpu - start_cpu, end_gpu - start_gpu]\n",
        "})\n",
        "\n",
        "print(results)"
      ],
      "metadata": {
        "colab": {
          "base_uri": "https://localhost:8080/"
        },
        "id": "F8yVSc_bGCI0",
        "outputId": "e44533c8-735d-4477-fb12-54e0c5e8befa"
      },
      "execution_count": null,
      "outputs": [
        {
          "output_type": "stream",
          "name": "stdout",
          "text": [
            "              Méthode  Accuracy  Temps d'entraînement (sec)\n",
            "0  Scikit-learn (CPU)  0.945929                   20.226352\n",
            "1          cuML (GPU)  0.944714                    4.584144\n"
          ]
        }
      ]
    },
    {
      "cell_type": "markdown",
      "source": [
        "\n",
        "*   cuML on GPU is significantly faster while maintaining nearly identical accuracy.\n",
        "* For larger datasets, GPU acceleration will provide even more time savings.\n",
        "* If speed is the priority, cuML is the better choice.\n",
        "For small datasets, CPU performance may be sufficient.\n",
        "\n",
        "*   List item\n",
        "\n"
      ],
      "metadata": {
        "id": "cSJBa5DiGSbn"
      }
    }
  ]
}